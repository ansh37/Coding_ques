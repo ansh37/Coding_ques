{
 "cells": [
  {
   "cell_type": "code",
   "execution_count": 46,
   "metadata": {},
   "outputs": [
    {
     "name": "stdin",
     "output_type": "stream",
     "text": [
      "Enter the number:  50\n"
     ]
    },
    {
     "name": "stdout",
     "output_type": "stream",
     "text": [
      "[ 2  3  5  7 11 13 17 19 23 29 31 37 41 43 47]\n"
     ]
    }
   ],
   "source": [
    "#program for prime number using sieve of eratosthenes using numpy\n",
    "import numpy as np\n",
    "\n",
    "def is_prime(n):\n",
    "    \n",
    "    if n < 2: return False\n",
    "    if n ==3 or n == 2: return True\n",
    "    \n",
    "    indices = np.ones(shape = n-1,dtype=np.bool) #initially all numbers are unmarked\n",
    "    array = np.arange(2,n+1)\n",
    "    for i in range(2,n):\n",
    "        temp = np.intersect1d(array[array % i == 0],array[array >= i**2])\n",
    "        indices[temp-2] = False\n",
    "    print(array[indices])\n",
    "\n",
    "n = int(input('Enter the number: '))\n",
    "is_prime(n)\n",
    "\n"
   ]
  },
  {
   "cell_type": "code",
   "execution_count": 53,
   "metadata": {},
   "outputs": [
    {
     "name": "stdout",
     "output_type": "stream",
     "text": [
      "2 3 5 7 11 13 17 19 23 29 31 37 41 43 47 53 59 61 67 71 73 79 83 89 97 "
     ]
    }
   ],
   "source": [
    "#program for prime number using sieve of eratosthenes using list\n",
    "def isprime(n):\n",
    "    if n < 2: return False\n",
    "    if n ==3 or n == 2: return True\n",
    "    \n",
    "    indices = [1 for i in range(n+1)]\n",
    "    \n",
    "    for i in range(2,n+1):\n",
    "        if indices[i]:\n",
    "            for k in range(i,n+1,i):\n",
    "                if k % i == 0 and k >= i**2:\n",
    "                    indices[k] = 0\n",
    "                    \n",
    "    for i in range(2,n+1):\n",
    "        if indices[i]:\n",
    "            print(i, end=\" \")\n",
    "            \n",
    "isprime(100)\n",
    "            \n",
    "        "
   ]
  },
  {
   "cell_type": "code",
   "execution_count": null,
   "metadata": {},
   "outputs": [],
   "source": []
  }
 ],
 "metadata": {
  "kernelspec": {
   "display_name": "Python 3.7.7 64-bit ('env1': conda)",
   "language": "python",
   "name": "python37764bitenv1conda8772056fe2764b10b4edf9b592819b07"
  },
  "language_info": {
   "codemirror_mode": {
    "name": "ipython",
    "version": 3
   },
   "file_extension": ".py",
   "mimetype": "text/x-python",
   "name": "python",
   "nbconvert_exporter": "python",
   "pygments_lexer": "ipython3",
   "version": "3.7.9"
  }
 },
 "nbformat": 4,
 "nbformat_minor": 4
}
